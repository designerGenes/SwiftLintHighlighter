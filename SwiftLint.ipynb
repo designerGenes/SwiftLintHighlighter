{
 "cells": [
  {
   "cell_type": "markdown",
   "id": "9fa2c5eb-baec-4101-bb03-36aee1f6b22d",
   "metadata": {},
   "source": [
    "<h1>SwiftLintHighlighter</h1>"
   ]
  },
  {
   "cell_type": "code",
   "execution_count": 10,
   "id": "3f65819a-6465-4155-8bce-ef85e2272040",
   "metadata": {},
   "outputs": [],
   "source": [
    "import re\n",
    "import json\n",
    "import os\n",
    "from IPython.display import display, Markdown\n",
    "from IPython.core.getipython import get_ipython"
   ]
  },
  {
   "cell_type": "code",
   "execution_count": 4,
   "id": "5db12dca-f052-4135-9251-355e2802b6ee",
   "metadata": {},
   "outputs": [],
   "source": [
    "def load_rules(file_path='swiftlint_rules.json'):\n",
    "    with open(file_path, 'r') as file:\n",
    "        return json.load(file)\n",
    "        \n",
    "def highlight_violations(code, rules):\n",
    "    matches = []\n",
    "    for rule in rules:\n",
    "        pattern = re.compile(rule['regex'], re.MULTILINE)\n",
    "        for match in pattern.finditer(code):\n",
    "            matches.append({\n",
    "                'start': match.start(),\n",
    "                'end': match.end(),\n",
    "                'color': rule['color'],\n",
    "                'rule': rule['name'],\n",
    "                'description': rule['description']\n",
    "            })\n",
    "    matches.sort(key=lambda x: x['start'])\n",
    "    \n",
    "    html_parts = []\n",
    "    last_index = 0\n",
    "    for match in matches:\n",
    "        # Append the code before the violation\n",
    "        html_parts.append(code[last_index:match['start']])\n",
    "        # Highlight the violation\n",
    "        violation = code[match['start']:match['end']]\n",
    "        html_parts.append(f'<span style=\"background-color:{match[\"color\"]};\" title=\"{match[\"rule\"]}: {match[\"description\"]}\">{violation}</span>')\n",
    "        last_index = match['end']\n",
    "    \n",
    "    # Append the remaining code\n",
    "    html_parts.append(code[last_index:])\n",
    "    \n",
    "    # Combine all parts\n",
    "    highlighted_code = ''.join(html_parts)\n",
    "    \n",
    "    # Wrap the code in a pre tag for proper formatting\n",
    "    html_content = f\"<pre><code class='language-swift'>{highlighted_code}</code></pre>\"\n",
    "    \n",
    "    return html_content"
   ]
  },
  {
   "cell_type": "code",
   "execution_count": null,
   "id": "93eebbaf-def6-4170-93e5-3d91de6118af",
   "metadata": {},
   "outputs": [
    {
     "name": "stdin",
     "output_type": "stream",
     "text": [
      "Please enter the path to the Swift file you want to analyze (or 'q' to quit):  BadCode.swift\n"
     ]
    },
    {
     "data": {
      "text/markdown": [
       "<pre><code class='language-swift'>import <span style=\"background-color:#FF69B4;\" title=\"Acronym Handling in Names: Acronyms should be consistently cased (e.g., `URLSession` not `UrlSession`).\">UIKit</span>\n",
       "\n",
       "<span style=\"background-color:#4682B4;\" title=\"Type Name Case: Type names should be in PascalCase.\">class e</span>xampleClass<span style=\"background-color:#DA70D6;\" title=\"Colon Spacing: No space before a colon `:`, and exactly one space after it.\">: U</span><span style=\"background-color:#FF69B4;\" title=\"Acronym Handling in Names: Acronyms should be consistently cased (e.g., `URLSession` not `UrlSession`).\">UIViewController</span> { // Type name should start with an uppercase letter\n",
       "    <span style=\"background-color:#2E8B57;\" title=\"Variable Name Case: Variable names should be in camelCase.\">var D</span><span style=\"background-color:#FF1493;\" title=\"Explicit Type in Variables: Omit type annotations when they can be inferred.\">var Delegate: AnyObject</span><span style=\"background-color:#DA70D6;\" title=\"Colon Spacing: No space before a colon `:`, and exactly one space after it.\">: A</span><span style=\"background-color:#B22222;\" title=\"Use of Any and AnyObject: Avoid using `Any` and `AnyObject` when a more specific type can be used.\">: AnyObject</span>! // Variable name should start with a lowercase letter; force unwrapping used\n",
       "\n",
       "    <span style=\"background-color:#696969;\" title=\"Weak IBOutlet Properties: Declare `@IBOutlet` properties as `weak` when appropriate.\">@IBOutlet var someButton:</span><span style=\"background-color:#FF69B4;\" title=\"Acronym Handling in Names: Acronyms should be consistently cased (e.g., `URLSession` not `UrlSession`).\">IBOutlet</span> <span style=\"background-color:#FF1493;\" title=\"Explicit Type in Variables: Omit type annotations when they can be inferred.\">var someButton:UIButton</span><span style=\"background-color:#FF69B4;\" title=\"Acronym Handling in Names: Acronyms should be consistently cased (e.g., `URLSession` not `UrlSession`).\">UIButton</span>! // Missing space after colon; force unwrapping used\n",
       "\n",
       "    override func viewDidLoad() {\n",
       "        super.viewDidLoad()\n",
       "        let number<span style=\"background-color:#7B68EE;\" title=\"Space Around Operators: Operators should have spaces around them.\">=</span>1234567890 // No spaces around operator; large number without separators\n",
       "\n",
       "        if number<span style=\"background-color:#7B68EE;\" title=\"Space Around Operators: Operators should have spaces around them.\">></span>1000000 { <span style=\"background-color:#20B2AA;\" title=\"Print Statements: Avoid using `print` statements in production code.\">print(</span>\"Large number\") } // Statements on the same line; no braces around if statement\n",
       "\n",
       "        let array = [1<span style=\"background-color:#FFD700;\" title=\"Comma Spacing: There should be a space after each comma.\">,2</span><span style=\"background-color:#FFD700;\" title=\"Comma Spacing: There should be a space after each comma.\">,3</span><span style=\"background-color:#FFD700;\" title=\"Comma Spacing: There should be a space after each comma.\">,4</span><span style=\"background-color:#FFD700;\" title=\"Comma Spacing: There should be a space after each comma.\">,5</span>] // Missing spaces after commas\n",
       "        let filtered = array.filter { $0 > 2 }.first // Using filter <span style=\"background-color:#FF8C00;\" title=\"Empty Closure Parentheses: Use `{}` instead of `{}` for empty closures.\">{ }</span>.first instead of first(where:)\n",
       "\n",
       "        <span style=\"background-color:#FF1493;\" title=\"Explicit Type in Variables: Omit type annotations when they can be inferred.\">var optionalBool: Bool</span><span style=\"background-color:#DA70D6;\" title=\"Colon Spacing: No space before a colon `:`, and exactly one space after it.\">: B</span>ool? = nil // Redundant optional initialization to nil\n",
       "        if optionalBool == true {\n",
       "            <span style=\"background-color:#20B2AA;\" title=\"Print Statements: Avoid using `print` statements in production code.\">print(</span>\"It's true\")\n",
       "        }\n",
       "\n",
       "        <span style=\"background-color:#32CD32;\" title=\"TODO and FIXME Comments: Address all `TODO` and `FIXME` comments.\">// TODO:</span><span style=\"background-color:#FF69B4;\" title=\"Acronym Handling in Names: Acronyms should be consistently cased (e.g., `URLSession` not `UrlSession`).\">TODO</span><span style=\"background-color:#DA70D6;\" title=\"Colon Spacing: No space before a colon `:`, and exactly one space after it.\">: H</span>andle potential nil value here // Presence of <span style=\"background-color:#FF69B4;\" title=\"Acronym Handling in Names: Acronyms should be consistently cased (e.g., `URLSession` not `UrlSession`).\">TODO</span> comment\n",
       "\n",
       "        let result = <span style=\"background-color:#8B0000;\" title=\"Force Try: Avoid using `try!`; handle errors properly.\">try!</span><span style=\"background-color:#8A2BE2;\" title=\"Force Unwrapping: Avoid force unwrapping optionals.\">! p</span>erformOperation() // Force try used\n",
       "\n",
       "        let sum = 0<span style=\"background-color:#40E0D0;\" title=\"Trailing Semicolons: Lines should not end with semicolons.\">;</span><span style=\"background-color:#FF6347;\" title=\"Semicolons in Statements: Do not use semicolons to terminate statements.\">;</span>\n",
       "        for i in 0...5 { sum += i } // Semicolon used; statements on the same line\n",
       "\n",
       "        let closure = { (value:Int) -> Int in return value * 2 } // Return keyword used in single<span style=\"background-color:#7B68EE;\" title=\"Space Around Operators: Operators should have spaces around them.\">-</span>expression closure\n",
       "\n",
       "        <span style=\"background-color:#FF1493;\" title=\"Explicit Type in Variables: Omit type annotations when they can be inferred.\">let dict:Dictionary<String</span><span style=\"background-color:#7B68EE;\" title=\"Space Around Operators: Operators should have spaces around them.\"><</span>String<span style=\"background-color:#FFD700;\" title=\"Comma Spacing: There should be a space after each comma.\">,I</span>nt> = [\"one\":1<span style=\"background-color:#FFD700;\" title=\"Comma Spacing: There should be a space after each comma.\">,\"</span>two\":2] // Use of explicit Dictionary type instead of [String<span style=\"background-color:#DA70D6;\" title=\"Colon Spacing: No space before a colon `:`, and exactly one space after it.\">: I</span>nt]\n",
       "\n",
       "        someFunction() -> Void // Redundant 'Void' return type\n",
       "    } // Missing newline before closing brace\n",
       "}\n",
       "\n",
       "func performOperation() throws -> Int {\n",
       "    return 42\n",
       "}\n",
       "\n",
       "func someFunction() -> Void { // Redundant 'Void' return type\n",
       "    <span style=\"background-color:#20B2AA;\" title=\"Print Statements: Avoid using `print` statements in production code.\">print(</span>\"Doing something\")\n",
       "}\n",
       "\n",
       "</code></pre>"
      ],
      "text/plain": [
       "<IPython.core.display.Markdown object>"
      ]
     },
     "metadata": {},
     "output_type": "display_data"
    },
    {
     "name": "stdin",
     "output_type": "stream",
     "text": [
      "Please enter the path to the Swift file you want to analyze (or 'q' to quit):  q\n"
     ]
    },
    {
     "name": "stdout",
     "output_type": "stream",
     "text": [
      "Analysis cancelled.\n",
      "The file 'q' does not exist. Please provide a valid file path.\n"
     ]
    }
   ],
   "source": [
    "while True:\n",
    "    file_path = input(\"Please enter the path to the Swift file you want to analyze (or 'q' to quit): \").strip()\n",
    "    \n",
    "    if file_path.lower() == 'q':\n",
    "        print(\"Analysis cancelled.\")\n",
    "    \n",
    "    if not file_path:\n",
    "        print(\"No file path provided. Please try again.\")\n",
    "        continue\n",
    "    \n",
    "    if not os.path.exists(file_path):\n",
    "        print(f\"The file '{file_path}' does not exist. Please provide a valid file path.\")\n",
    "        continue\n",
    "    \n",
    "    if not file_path.endswith('.swift'):\n",
    "        print(\"The provided file does not have a .swift extension. Are you sure this is a Swift file?\")\n",
    "        confirm = input(\"Enter 'y' to proceed anyway, or any other key to try again: \").strip().lower()\n",
    "        if confirm != 'y':\n",
    "            continue\n",
    "    \n",
    "    try:\n",
    "        with open(file_path, 'r') as file:\n",
    "            swift_code = file.read()\n",
    "            rules = load_rules('swiftlint_rules.json')\n",
    "            html_output = highlight_violations(swift_code, rules)\n",
    "            display(Markdown(html_output))\n",
    "    except FileNotFoundError:\n",
    "        print(f\"Error: The file '{file_path}' was not found.\")\n",
    "    except IOError:\n",
    "        print(f\"Error: There was an issue reading the file '{file_path}'.\")\n",
    "\n"
   ]
  }
 ],
 "metadata": {
  "kernelspec": {
   "display_name": "Python 3 (ipykernel)",
   "language": "python",
   "name": "python3"
  },
  "language_info": {
   "codemirror_mode": {
    "name": "ipython",
    "version": 3
   },
   "file_extension": ".py",
   "mimetype": "text/x-python",
   "name": "python",
   "nbconvert_exporter": "python",
   "pygments_lexer": "ipython3",
   "version": "3.11.9"
  }
 },
 "nbformat": 4,
 "nbformat_minor": 5
}
